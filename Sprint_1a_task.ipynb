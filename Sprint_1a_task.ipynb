{
  "nbformat": 4,
  "nbformat_minor": 0,
  "metadata": {
    "colab": {
      "provenance": [],
      "authorship_tag": "ABX9TyPMyEm97aIALtPTgm1A6bTi",
      "include_colab_link": true
    },
    "kernelspec": {
      "name": "python3",
      "display_name": "Python 3"
    },
    "language_info": {
      "name": "python"
    }
  },
  "cells": [
    {
      "cell_type": "markdown",
      "metadata": {
        "id": "view-in-github",
        "colab_type": "text"
      },
      "source": [
        "<a href=\"https://colab.research.google.com/github/RaufAfandiyev/sprin_tasks/blob/main/Sprint_1a_task.ipynb\" target=\"_parent\"><img src=\"https://colab.research.google.com/assets/colab-badge.svg\" alt=\"Open In Colab\"/></a>"
      ]
    },
    {
      "cell_type": "code",
      "execution_count": 1,
      "metadata": {
        "colab": {
          "base_uri": "https://localhost:8080/"
        },
        "id": "9Oz2MRsm3jrH",
        "outputId": "20807b7d-c8f3-465f-c9ab-1a67820ac13b"
      },
      "outputs": [
        {
          "output_type": "stream",
          "name": "stdout",
          "text": [
            "String: 123 | Tip: <class 'str'>\n"
          ]
        }
      ],
      "source": [
        "num = 123\n",
        "str_num = str(num)\n",
        "print(\"String:\", str_num, \"| Tip:\", type(str_num))"
      ]
    },
    {
      "cell_type": "code",
      "source": [
        "val = 19.99\n",
        "int_val = int(val)\n",
        "print(\"Tam eded:\", int_val)"
      ],
      "metadata": {
        "colab": {
          "base_uri": "https://localhost:8080/"
        },
        "id": "4QGcWqrM3vZW",
        "outputId": "84a41dc0-1713-4ef1-eb96-1dfc1ecd91cb"
      },
      "execution_count": 2,
      "outputs": [
        {
          "output_type": "stream",
          "name": "stdout",
          "text": [
            "Tam eded: 19\n"
          ]
        }
      ]
    },
    {
      "cell_type": "code",
      "source": [
        "s = \"500\"\n",
        "numeric = int(s)\n",
        "print(\"500 / 2 =\", numeric / 2)"
      ],
      "metadata": {
        "colab": {
          "base_uri": "https://localhost:8080/"
        },
        "id": "_wwpby9033TE",
        "outputId": "3f517d0d-179f-475f-911f-5cf88f5bc3e3"
      },
      "execution_count": 4,
      "outputs": [
        {
          "output_type": "stream",
          "name": "stdout",
          "text": [
            "500 / 2 = 250.0\n"
          ]
        }
      ]
    },
    {
      "cell_type": "code",
      "source": [
        "a = 8\n",
        "b = 12\n",
        "print(\"a < b:\", a < b)\n",
        "print(\"a == b:\", a == b)"
      ],
      "metadata": {
        "colab": {
          "base_uri": "https://localhost:8080/"
        },
        "id": "Bhd0TEqv37Qb",
        "outputId": "d804f387-b7d1-4fc5-a4b5-c4d0d5e5e368"
      },
      "execution_count": 5,
      "outputs": [
        {
          "output_type": "stream",
          "name": "stdout",
          "text": [
            "a < b: True\n",
            "a == b: False\n"
          ]
        }
      ]
    },
    {
      "cell_type": "code",
      "source": [
        "x, y, z = 5, 10, 15\n",
        "result = (x < y) and (y < z)\n",
        "print(\"(x < y) and (y < z):\", result)"
      ],
      "metadata": {
        "colab": {
          "base_uri": "https://localhost:8080/"
        },
        "id": "rOUfNLlZ4FqN",
        "outputId": "97b68fd0-0e99-4618-a1a1-0a4d26856a05"
      },
      "execution_count": 8,
      "outputs": [
        {
          "output_type": "stream",
          "name": "stdout",
          "text": [
            "(x < y) and (y < z): True\n"
          ]
        }
      ]
    },
    {
      "cell_type": "code",
      "source": [
        "print(\"25 // 4 =\", 25 // 4)\n",
        "print(\"25 % 4 =\", 25 % 4)\n",
        "print(\"25 / 4 =\", 25 / 4)"
      ],
      "metadata": {
        "colab": {
          "base_uri": "https://localhost:8080/"
        },
        "id": "oAmjyYvi4J7w",
        "outputId": "7f502e81-8c00-4808-ee9b-ca609eed3cd0"
      },
      "execution_count": 9,
      "outputs": [
        {
          "output_type": "stream",
          "name": "stdout",
          "text": [
            "25 // 4 = 6\n",
            "25 % 4 = 1\n",
            "25 / 4 = 6.25\n"
          ]
        }
      ]
    },
    {
      "cell_type": "code",
      "source": [
        "print(\"3 ** 4 =\", 3 ** 4)"
      ],
      "metadata": {
        "colab": {
          "base_uri": "https://localhost:8080/"
        },
        "id": "1lkfPcu74dRP",
        "outputId": "54df0830-4194-41b0-e130-89321aa56800"
      },
      "execution_count": 10,
      "outputs": [
        {
          "output_type": "stream",
          "name": "stdout",
          "text": [
            "3 ** 4 = 81\n"
          ]
        }
      ]
    },
    {
      "cell_type": "code",
      "source": [
        "qiymet = 75.5\n",
        "qiymet_int = int(qiymet)\n",
        "print(\"Tam qiymət:\", qiymet_int, \"| Tip:\", type(qiymet_int))"
      ],
      "metadata": {
        "colab": {
          "base_uri": "https://localhost:8080/"
        },
        "id": "njsgz9PT4iDT",
        "outputId": "f2e346c2-5f67-49b4-bbec-af5c44a5a3f1"
      },
      "execution_count": 11,
      "outputs": [
        {
          "output_type": "stream",
          "name": "stdout",
          "text": [
            "Tam qiymət: 75 | Tip: <class 'int'>\n"
          ]
        }
      ]
    },
    {
      "cell_type": "code",
      "source": [
        "n = 20\n",
        "print(\"(n > 10) or (n < 5):\", (n > 10) or (n < 5))\n",
        "print(\"(n > 15) and (n < 25):\", (n > 15) and (n < 25))"
      ],
      "metadata": {
        "colab": {
          "base_uri": "https://localhost:8080/"
        },
        "id": "pkFECEQ94nhq",
        "outputId": "3ab17804-7a65-47ed-d931-356442359e5c"
      },
      "execution_count": 12,
      "outputs": [
        {
          "output_type": "stream",
          "name": "stdout",
          "text": [
            "(n > 10) or (n < 5): True\n",
            "(n > 15) and (n < 25): True\n"
          ]
        }
      ]
    },
    {
      "cell_type": "code",
      "source": [
        "s = \"42.8\"\n",
        "flt = float(s)\n",
        "print(\"Float:\", flt, \"| Tip:\", type(flt))\n",
        "tam = int(flt)\n",
        "print(\"Tam:\", tam, \"| Tip:\", type(tam))"
      ],
      "metadata": {
        "colab": {
          "base_uri": "https://localhost:8080/"
        },
        "id": "fZTmsVaF4v9e",
        "outputId": "ca0978ff-8dec-4ecd-9d34-154a12f592a1"
      },
      "execution_count": 13,
      "outputs": [
        {
          "output_type": "stream",
          "name": "stdout",
          "text": [
            "Float: 42.8 | Tip: <class 'float'>\n",
            "Tam: 42 | Tip: <class 'int'>\n"
          ]
        }
      ]
    },
    {
      "cell_type": "code",
      "source": [],
      "metadata": {
        "id": "Pr3_wYaU40Q2"
      },
      "execution_count": null,
      "outputs": []
    }
  ]
}