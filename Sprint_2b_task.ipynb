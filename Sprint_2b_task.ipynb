{
  "nbformat": 4,
  "nbformat_minor": 0,
  "metadata": {
    "colab": {
      "provenance": [],
      "authorship_tag": "ABX9TyP4nu+9eslruoJFmYhNiFgA",
      "include_colab_link": true
    },
    "kernelspec": {
      "name": "python3",
      "display_name": "Python 3"
    },
    "language_info": {
      "name": "python"
    }
  },
  "cells": [
    {
      "cell_type": "markdown",
      "metadata": {
        "id": "view-in-github",
        "colab_type": "text"
      },
      "source": [
        "<a href=\"https://colab.research.google.com/github/RaufAfandiyev/sprin_tasks/blob/main/Sprint_2b_task.ipynb\" target=\"_parent\"><img src=\"https://colab.research.google.com/assets/colab-badge.svg\" alt=\"Open In Colab\"/></a>"
      ]
    },
    {
      "cell_type": "code",
      "execution_count": null,
      "metadata": {
        "id": "dIa5cxu5ts3-"
      },
      "outputs": [],
      "source": [
        "import pandas as pd\n"
      ]
    },
    {
      "cell_type": "code",
      "source": [
        "s1 = pd.Series([10, 20, 30, 40])\n",
        "print(\"s1\", s1)"
      ],
      "metadata": {
        "colab": {
          "base_uri": "https://localhost:8080/"
        },
        "id": "-L46jrsiud1O",
        "outputId": "50336674-5c39-4734-8ffd-0d4829874872"
      },
      "execution_count": null,
      "outputs": [
        {
          "output_type": "stream",
          "name": "stdout",
          "text": [
            "s1 0    10\n",
            "1    20\n",
            "2    30\n",
            "3    40\n",
            "dtype: int64\n"
          ]
        }
      ]
    },
    {
      "cell_type": "code",
      "source": [
        "s1.index = ['w', 'x', 'y', 'z']\n",
        "print(\"s1\", s1)"
      ],
      "metadata": {
        "colab": {
          "base_uri": "https://localhost:8080/"
        },
        "id": "nMeI58L7uoBT",
        "outputId": "be700cb5-32fb-4244-cdc8-43af33f5e79b"
      },
      "execution_count": null,
      "outputs": [
        {
          "output_type": "stream",
          "name": "stdout",
          "text": [
            "s1 w    10\n",
            "x    20\n",
            "y    30\n",
            "z    40\n",
            "dtype: int64\n"
          ]
        }
      ]
    },
    {
      "cell_type": "code",
      "source": [
        "s2 = pd.Series({'p': 5, 'q': 10, 'r': 15})\n",
        "print(\"s2:\", s2)\n"
      ],
      "metadata": {
        "colab": {
          "base_uri": "https://localhost:8080/"
        },
        "id": "88ybo9OIv2uT",
        "outputId": "3c771484-9660-4baa-ee80-8105365dc392"
      },
      "execution_count": null,
      "outputs": [
        {
          "output_type": "stream",
          "name": "stdout",
          "text": [
            "s2: p     5\n",
            "q    10\n",
            "r    15\n",
            "dtype: int64\n"
          ]
        }
      ]
    },
    {
      "cell_type": "code",
      "source": [
        "q = s2['q']\n",
        "print(\" 'q' indeksli element:\", q)"
      ],
      "metadata": {
        "colab": {
          "base_uri": "https://localhost:8080/"
        },
        "id": "YSBWbQEOwicx",
        "outputId": "c7ce4ea9-f90b-47c9-e309-b4a5331d7fe4"
      },
      "execution_count": null,
      "outputs": [
        {
          "output_type": "stream",
          "name": "stdout",
          "text": [
            " 'q' indeksli element: 10\n"
          ]
        }
      ]
    },
    {
      "cell_type": "code",
      "source": [
        "boyuk = s1[s1 > 25]\n",
        "print(\"25-dən böyük elementlər:\", boyuk)\n"
      ],
      "metadata": {
        "colab": {
          "base_uri": "https://localhost:8080/"
        },
        "id": "tn78w3j0xYFk",
        "outputId": "3c72ee6b-7755-4dae-e5f8-54989863b709"
      },
      "execution_count": null,
      "outputs": [
        {
          "output_type": "stream",
          "name": "stdout",
          "text": [
            "25-dən böyük elementlər: y    30\n",
            "z    40\n",
            "dtype: int64\n"
          ]
        }
      ]
    },
    {
      "cell_type": "code",
      "source": [
        "bol = s1[s1 > 20] / 10\n",
        "print(\"20-dən böyük elementlər 10-a bölmək:\", bol)"
      ],
      "metadata": {
        "colab": {
          "base_uri": "https://localhost:8080/"
        },
        "id": "3xfAgb22yNCn",
        "outputId": "b40461cb-3553-4090-ec13-d6fe1bab27d9"
      },
      "execution_count": null,
      "outputs": [
        {
          "output_type": "stream",
          "name": "stdout",
          "text": [
            "20-dən böyük elementlər 10-a bölmək: y    3.0\n",
            "z    4.0\n",
            "dtype: float64\n"
          ]
        }
      ]
    },
    {
      "cell_type": "code",
      "source": [
        "df1 = pd.DataFrame([(1, 2), (3, 4)])\n",
        "print(\" df1:\", df1)\n"
      ],
      "metadata": {
        "colab": {
          "base_uri": "https://localhost:8080/"
        },
        "id": "UKCIUaZLyepD",
        "outputId": "287d4727-c613-44ab-da7b-6d05b347ae54"
      },
      "execution_count": null,
      "outputs": [
        {
          "output_type": "stream",
          "name": "stdout",
          "text": [
            "\n",
            "7-8) df1:\n",
            "    0  1\n",
            "0  1  2\n",
            "1  3  4\n"
          ]
        }
      ]
    },
    {
      "cell_type": "code",
      "source": [
        "df1.index = ['r1', 'r2']\n",
        "df1.columns = ['c1', 'c2']"
      ],
      "metadata": {
        "id": "CfH5Nqhkzqfj"
      },
      "execution_count": null,
      "outputs": []
    },
    {
      "cell_type": "code",
      "source": [
        "df2 = pd.DataFrame({'A': [1, 2], 'B': [3, 4]})\n",
        "print(\" df2:\", df2)"
      ],
      "metadata": {
        "colab": {
          "base_uri": "https://localhost:8080/"
        },
        "id": "seN6sW4xzvUD",
        "outputId": "048740b3-2e7e-418f-ca3a-1d4456fd304a"
      },
      "execution_count": null,
      "outputs": [
        {
          "output_type": "stream",
          "name": "stdout",
          "text": [
            " df2:    A  B\n",
            "0  1  3\n",
            "1  2  4\n"
          ]
        }
      ]
    },
    {
      "cell_type": "code",
      "source": [
        "boyuk = df2[df2['A'] > 1]\n",
        "print(\" 'A' sütunu 1-dən böyük olan sətirlər:\", boyuk)"
      ],
      "metadata": {
        "colab": {
          "base_uri": "https://localhost:8080/"
        },
        "id": "jW763guxz4kS",
        "outputId": "150a7b86-156e-4318-8ee7-a62bf3b9fc35"
      },
      "execution_count": null,
      "outputs": [
        {
          "output_type": "stream",
          "name": "stdout",
          "text": [
            "\n",
            "10) df2-də 'A' sütunu 1-dən böyük olan sətirlər:\n",
            "    A  B\n",
            "1  2  4\n"
          ]
        }
      ]
    },
    {
      "cell_type": "code",
      "source": [],
      "metadata": {
        "id": "lOloP5Wu0ELU"
      },
      "execution_count": null,
      "outputs": []
    }
  ]
}