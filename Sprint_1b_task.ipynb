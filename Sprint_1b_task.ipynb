{
  "nbformat": 4,
  "nbformat_minor": 0,
  "metadata": {
    "colab": {
      "provenance": [],
      "authorship_tag": "ABX9TyPmgwrjkJnzqcFtu87n51d6",
      "include_colab_link": true
    },
    "kernelspec": {
      "name": "python3",
      "display_name": "Python 3"
    },
    "language_info": {
      "name": "python"
    }
  },
  "cells": [
    {
      "cell_type": "markdown",
      "metadata": {
        "id": "view-in-github",
        "colab_type": "text"
      },
      "source": [
        "<a href=\"https://colab.research.google.com/github/RaufAfandiyev/sprin_tasks/blob/main/Sprint_1b_task.ipynb\" target=\"_parent\"><img src=\"https://colab.research.google.com/assets/colab-badge.svg\" alt=\"Open In Colab\"/></a>"
      ]
    },
    {
      "cell_type": "code",
      "execution_count": 1,
      "metadata": {
        "colab": {
          "base_uri": "https://localhost:8080/"
        },
        "id": "5Dxj0i-B0-dd",
        "outputId": "282ea39d-806e-47fa-89c3-74af0700c0cf"
      },
      "outputs": [
        {
          "output_type": "stream",
          "name": "stdout",
          "text": [
            "Uzunluq: 11\n",
            "İlk simvol: P\n"
          ]
        }
      ],
      "source": [
        "s = \"Programming\"\n",
        "print(\"Uzunluq:\", len(s))\n",
        "print(\"İlk simvol:\", s[0])"
      ]
    },
    {
      "cell_type": "code",
      "source": [
        "s1 = \"Hello\"\n",
        "s2 = \"World\"\n",
        "combined = s1 + \" \" + s2\n",
        "print(\"netice:\", combined)"
      ],
      "metadata": {
        "colab": {
          "base_uri": "https://localhost:8080/"
        },
        "id": "XorJ3Obh1l7C",
        "outputId": "8fdbf728-9de2-4dd0-f59b-fc2794737b4e"
      },
      "execution_count": 3,
      "outputs": [
        {
          "output_type": "stream",
          "name": "stdout",
          "text": [
            "netice: Hello World\n"
          ]
        }
      ]
    },
    {
      "cell_type": "code",
      "source": [
        "text = \"Python\"\n",
        "print(\"Son simvol:\", text[-1])"
      ],
      "metadata": {
        "colab": {
          "base_uri": "https://localhost:8080/"
        },
        "id": "l17OxCY61sI9",
        "outputId": "404a5ea8-77df-4011-ec03-4d83c981fe2e"
      },
      "execution_count": 4,
      "outputs": [
        {
          "output_type": "stream",
          "name": "stdout",
          "text": [
            "Son simvol: n\n"
          ]
        }
      ]
    },
    {
      "cell_type": "code",
      "source": [
        "s = \"Artificial\"\n",
        "removed = s[3:]\n",
        "print(\"netice:\", removed)"
      ],
      "metadata": {
        "colab": {
          "base_uri": "https://localhost:8080/"
        },
        "id": "LJ9f_VKM1zks",
        "outputId": "0c7b60ac-92db-4c1c-baf5-bba07d6b9a86"
      },
      "execution_count": 5,
      "outputs": [
        {
          "output_type": "stream",
          "name": "stdout",
          "text": [
            "Art hissəsi çıxarılmış: ificial\n"
          ]
        }
      ]
    },
    {
      "cell_type": "code",
      "source": [
        "word = \"Code\"\n",
        "reversed_word = word[::-1]\n",
        "print(\"netice:\", reversed_word)"
      ],
      "metadata": {
        "colab": {
          "base_uri": "https://localhost:8080/"
        },
        "id": "8XFjpXNM15rj",
        "outputId": "37d29a6c-f7fd-4819-f925-a7cfed9e5a24"
      },
      "execution_count": 7,
      "outputs": [
        {
          "output_type": "stream",
          "name": "stdout",
          "text": [
            "netice: edoC\n"
          ]
        }
      ]
    },
    {
      "cell_type": "code",
      "source": [
        "s = \"abcdefgh\"\n",
        "every_second = s[::2]\n",
        "print(\"Hər ikinci simvol:\", every_second)"
      ],
      "metadata": {
        "colab": {
          "base_uri": "https://localhost:8080/"
        },
        "id": "EhABVSoV2AJU",
        "outputId": "17abcff3-679a-441c-8361-11878bae4b91"
      },
      "execution_count": 8,
      "outputs": [
        {
          "output_type": "stream",
          "name": "stdout",
          "text": [
            "Hər ikinci simvol: aceg\n"
          ]
        }
      ]
    },
    {
      "cell_type": "code",
      "source": [
        "text = \"data\"\n",
        "print(\"Boyuk:\", text.upper(), \" Kicik:\", text.lower())"
      ],
      "metadata": {
        "colab": {
          "base_uri": "https://localhost:8080/"
        },
        "id": "FSPNa1Nz2Krn",
        "outputId": "a0c345e5-a5a4-453b-836f-58cb2a67e9a4"
      },
      "execution_count": 10,
      "outputs": [
        {
          "output_type": "stream",
          "name": "stdout",
          "text": [
            "Boyuk: DATA  Kicik: data\n"
          ]
        }
      ]
    },
    {
      "cell_type": "code",
      "source": [
        "s = \"Python-R-Java\"\n",
        "split_result = s.split(\"-\")\n",
        "print(\" netice:\", split_result)"
      ],
      "metadata": {
        "colab": {
          "base_uri": "https://localhost:8080/"
        },
        "id": "QkvdQNom2STi",
        "outputId": "bb541af7-f7a3-4076-9314-adaf0e0a027c"
      },
      "execution_count": 11,
      "outputs": [
        {
          "output_type": "stream",
          "name": "stdout",
          "text": [
            " netice: ['Python', 'R', 'Java']\n"
          ]
        }
      ]
    },
    {
      "cell_type": "code",
      "source": [
        "ad = \"Ayxan\"\n",
        "yas = 25\n",
        "print(f\"{ad} {yas} yaşındadır\")"
      ],
      "metadata": {
        "colab": {
          "base_uri": "https://localhost:8080/"
        },
        "id": "Hwg6uQn-2hOv",
        "outputId": "ef35f120-9992-4b10-d79c-539c3b8216ec"
      },
      "execution_count": 12,
      "outputs": [
        {
          "output_type": "stream",
          "name": "stdout",
          "text": [
            "Ayxan 25 yaşındadır\n"
          ]
        }
      ]
    },
    {
      "cell_type": "code",
      "source": [
        "s = \"salam-dunya\"\n",
        "replaced = s.replace(\"-\", \" \")\n",
        "print(\"netice:\", replaced)"
      ],
      "metadata": {
        "colab": {
          "base_uri": "https://localhost:8080/"
        },
        "id": "Aw6YuSzE2q8J",
        "outputId": "3051e118-b611-4e9c-e3d4-266890fb7423"
      },
      "execution_count": 14,
      "outputs": [
        {
          "output_type": "stream",
          "name": "stdout",
          "text": [
            "netice: salam dunya\n"
          ]
        }
      ]
    },
    {
      "cell_type": "code",
      "source": [],
      "metadata": {
        "id": "EOdhChtb2v4X"
      },
      "execution_count": null,
      "outputs": []
    }
  ]
}