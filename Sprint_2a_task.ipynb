{
  "nbformat": 4,
  "nbformat_minor": 0,
  "metadata": {
    "colab": {
      "provenance": [],
      "authorship_tag": "ABX9TyOkgOtCmDPvqfxNuyM8HpH5",
      "include_colab_link": true
    },
    "kernelspec": {
      "name": "python3",
      "display_name": "Python 3"
    },
    "language_info": {
      "name": "python"
    }
  },
  "cells": [
    {
      "cell_type": "markdown",
      "metadata": {
        "id": "view-in-github",
        "colab_type": "text"
      },
      "source": [
        "<a href=\"https://colab.research.google.com/github/RaufAfandiyev/sprin_tasks/blob/main/Sprint_2a_task.ipynb\" target=\"_parent\"><img src=\"https://colab.research.google.com/assets/colab-badge.svg\" alt=\"Open In Colab\"/></a>"
      ]
    },
    {
      "cell_type": "code",
      "execution_count": 1,
      "metadata": {
        "id": "0ByqOSXv5Eom"
      },
      "outputs": [],
      "source": [
        "rəqəmlər = [5, 10, 15, 20]"
      ]
    },
    {
      "cell_type": "code",
      "source": [
        "print(\"Uzunluq:\", len(rəqəmlər))\n"
      ],
      "metadata": {
        "colab": {
          "base_uri": "https://localhost:8080/"
        },
        "id": "BaY9vwqu5XgA",
        "outputId": "bf08875f-2428-4631-ebaa-e14b1183fa99"
      },
      "execution_count": 2,
      "outputs": [
        {
          "output_type": "stream",
          "name": "stdout",
          "text": [
            "Uzunluq: 4\n"
          ]
        }
      ]
    },
    {
      "cell_type": "code",
      "source": [
        "rəqəmlər.append(25)\n",
        "print(\"netice:\", rəqəmlər)"
      ],
      "metadata": {
        "colab": {
          "base_uri": "https://localhost:8080/"
        },
        "id": "jjvcsYKF5uMG",
        "outputId": "615b7cf6-fe43-460f-9470-98057821ace6"
      },
      "execution_count": 3,
      "outputs": [
        {
          "output_type": "stream",
          "name": "stdout",
          "text": [
            "25 əlavə olunmuş: [5, 10, 15, 20, 25]\n"
          ]
        }
      ]
    },
    {
      "cell_type": "code",
      "source": [
        "rəqəmlər.insert(2, 12)\n",
        "print(\"netice:\", rəqəmlər)"
      ],
      "metadata": {
        "colab": {
          "base_uri": "https://localhost:8080/"
        },
        "id": "18dNfiSO5whk",
        "outputId": "3ed880e7-196b-4eb0-e77e-ad85167b5ea7"
      },
      "execution_count": 5,
      "outputs": [
        {
          "output_type": "stream",
          "name": "stdout",
          "text": [
            "netice: [5, 10, 12, 12, 15, 20, 25]\n"
          ]
        }
      ]
    },
    {
      "cell_type": "code",
      "source": [
        "list1 = [1, 2, 3]\n",
        "list2 = [4, 5, 6]\n",
        "birləşmiş = list1 + list2\n",
        "print(\"netice:\", birləşmiş)\n"
      ],
      "metadata": {
        "colab": {
          "base_uri": "https://localhost:8080/"
        },
        "id": "hP_NDzwX58eN",
        "outputId": "fffa50d2-a532-4843-c567-f5f1cd4e5d4d"
      },
      "execution_count": 6,
      "outputs": [
        {
          "output_type": "stream",
          "name": "stdout",
          "text": [
            "netice: [1, 2, 3, 4, 5, 6]\n"
          ]
        }
      ]
    },
    {
      "cell_type": "code",
      "source": [
        "print(\"netice:\", rəqəmlər[2:4])"
      ],
      "metadata": {
        "colab": {
          "base_uri": "https://localhost:8080/"
        },
        "id": "EN_aMhl_6FLh",
        "outputId": "69597a9c-cba8-43b1-e5ab-ee439447505d"
      },
      "execution_count": 8,
      "outputs": [
        {
          "output_type": "stream",
          "name": "stdout",
          "text": [
            "netice: [12, 12]\n"
          ]
        }
      ]
    },
    {
      "cell_type": "code",
      "source": [
        "rəqəmlər[0] = 50\n",
        "print(\"netice:\", rəqəmlər)"
      ],
      "metadata": {
        "colab": {
          "base_uri": "https://localhost:8080/"
        },
        "id": "ibS2ig7G6M-F",
        "outputId": "6f182d64-99dd-4cfd-ed24-3fb80b693a3f"
      },
      "execution_count": 9,
      "outputs": [
        {
          "output_type": "stream",
          "name": "stdout",
          "text": [
            "netice: [50, 10, 12, 12, 15, 20, 25]\n"
          ]
        }
      ]
    },
    {
      "cell_type": "code",
      "source": [
        "print(\"19 var?\", 19 in rəqəmlər)"
      ],
      "metadata": {
        "colab": {
          "base_uri": "https://localhost:8080/"
        },
        "id": "2-TNnkv06YK8",
        "outputId": "9000898b-a65c-4f71-a610-235ef3949b8f"
      },
      "execution_count": 10,
      "outputs": [
        {
          "output_type": "stream",
          "name": "stdout",
          "text": [
            "netice False\n"
          ]
        }
      ]
    },
    {
      "cell_type": "code",
      "source": [
        "hərflər = [\"a\", \"b\", \"a\", \"c\"]\n",
        "print(\"a sayı:\", hərflər.count(\"a\"))"
      ],
      "metadata": {
        "colab": {
          "base_uri": "https://localhost:8080/"
        },
        "id": "ohhn8coP6dlW",
        "outputId": "b2b3e36c-ec4c-4633-d5ec-2edc33c2b454"
      },
      "execution_count": 12,
      "outputs": [
        {
          "output_type": "stream",
          "name": "stdout",
          "text": [
            "a sayı: 2\n"
          ]
        }
      ]
    },
    {
      "cell_type": "code",
      "source": [
        "simvollar = [\"x\", \"y\", \"x\", \"z\"]\n",
        "simvollar = [s for s in simvollar if s != \"x\"]\n",
        "print(\"'x'siz list:\", simvollar)"
      ],
      "metadata": {
        "colab": {
          "base_uri": "https://localhost:8080/"
        },
        "id": "YwW9QDJS6krA",
        "outputId": "34185d27-a49c-4160-97e2-1ac856d0ecf6"
      },
      "execution_count": 13,
      "outputs": [
        {
          "output_type": "stream",
          "name": "stdout",
          "text": [
            "'x'siz list: ['y', 'z']\n"
          ]
        }
      ]
    },
    {
      "cell_type": "code",
      "source": [
        "ədədlər = [7, 2, 9, 1]\n",
        "ədədlər.sort(reverse=True)\n",
        "print(\"Azalan sıra:\", ədədlər)"
      ],
      "metadata": {
        "colab": {
          "base_uri": "https://localhost:8080/"
        },
        "id": "WSTET3JH6ssT",
        "outputId": "24304ccd-1f9e-42be-a222-e1422c459301"
      },
      "execution_count": 14,
      "outputs": [
        {
          "output_type": "stream",
          "name": "stdout",
          "text": [
            "Azalan sıra: [9, 7, 2, 1]\n"
          ]
        }
      ]
    },
    {
      "cell_type": "code",
      "source": [
        "böyük_10 = [x for x in rəqəmlər if x > 10]\n",
        "print(\"10-dan böyük elementlər:\", böyük_10)"
      ],
      "metadata": {
        "colab": {
          "base_uri": "https://localhost:8080/"
        },
        "id": "dBXCBPP86x0j",
        "outputId": "99867c7e-b4a4-4f43-8038-2b0e7c1f0260"
      },
      "execution_count": 15,
      "outputs": [
        {
          "output_type": "stream",
          "name": "stdout",
          "text": [
            "10-dan böyük elementlər: [50, 12, 12, 15, 20, 25]\n"
          ]
        }
      ]
    },
    {
      "cell_type": "code",
      "source": [],
      "metadata": {
        "id": "tkfPaM8N62Oh"
      },
      "execution_count": null,
      "outputs": []
    }
  ]
}